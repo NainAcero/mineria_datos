{
 "cells": [
  {
   "cell_type": "markdown",
   "metadata": {},
   "source": [
    "## ANALISIS FORMULARIO 01 - ESIS 2020 ( NAIN ACERO )"
   ]
  },
  {
   "cell_type": "code",
   "execution_count": 1,
   "metadata": {},
   "outputs": [],
   "source": [
    "import pandas as pd\n",
    "import os\n",
    "import numpy as np\n",
    "import matplotlib.pyplot as plt"
   ]
  },
  {
   "cell_type": "code",
   "execution_count": 144,
   "metadata": {},
   "outputs": [],
   "source": [
    "mainpath = \"datasets\"\n",
    "filename = \"formulario_01.csv\"\n",
    "fullpath = os.path.join(mainpath, filename)"
   ]
  },
  {
   "cell_type": "code",
   "execution_count": 145,
   "metadata": {},
   "outputs": [],
   "source": [
    "data = pd.read_csv(fullpath)"
   ]
  },
  {
   "cell_type": "code",
   "execution_count": 213,
   "metadata": {},
   "outputs": [
    {
     "data": {
      "text/html": [
       "<div>\n",
       "<style scoped>\n",
       "    .dataframe tbody tr th:only-of-type {\n",
       "        vertical-align: middle;\n",
       "    }\n",
       "\n",
       "    .dataframe tbody tr th {\n",
       "        vertical-align: top;\n",
       "    }\n",
       "\n",
       "    .dataframe thead th {\n",
       "        text-align: right;\n",
       "    }\n",
       "</style>\n",
       "<table border=\"1\" class=\"dataframe\">\n",
       "  <thead>\n",
       "    <tr style=\"text-align: right;\">\n",
       "      <th></th>\n",
       "      <th>Marca temporal</th>\n",
       "      <th>Nombre de usuario</th>\n",
       "      <th>¿Cuál es tu género?</th>\n",
       "      <th>¿Cuál es edad?</th>\n",
       "      <th>En que tipo de colegio terminó su segundaria?</th>\n",
       "      <th>Comúnmente cuales fueron sus calificaciones en el colegio?</th>\n",
       "      <th>¿Cómo consideras que es la formación que te brindó la escuela secundaria?</th>\n",
       "      <th>Modalidad de Ingreso a la Universidad Nacional Jorge Basadre Grohmann?</th>\n",
       "      <th>Cual fue su nota de ingreso a la Universidad Nacional Jorge Basadre Grohmann?</th>\n",
       "      <th>¿Cuántas horas por semana le dedica a sus tareas universitarias?</th>\n",
       "      <th>...</th>\n",
       "      <th>¿Entiende las explicaciones que se dan en sus clases Universitarias?</th>\n",
       "      <th>¿Recibe tutorías por parte de su tutor?</th>\n",
       "      <th>¿Cuántas horas trabaja por día?</th>\n",
       "      <th>¿Estudiaste o estúdias otra carrera universitaria?</th>\n",
       "      <th>Si estudiaste o estúdias otra carrera ¿Cuál o cuáles?</th>\n",
       "      <th>Por lo general cuando estudias lo haces a través de...</th>\n",
       "      <th>Cuando estudias los textos, ¿Se te presentan inconvenientes para comprender, interpretar o retener lo leído?</th>\n",
       "      <th>Respecto a disponibilidad de equipo de computación, ¿Con cuál/cuáles cuentas habitualmente?</th>\n",
       "      <th>Cuentas con buena conexión a Internet?</th>\n",
       "      <th>¿Cuáles fueron los motivos principales que te impulsaron a seguir estudios superiores?</th>\n",
       "    </tr>\n",
       "  </thead>\n",
       "  <tbody>\n",
       "    <tr>\n",
       "      <th>0</th>\n",
       "      <td>2020/12/01 4:04:37 p. m. GMT-5</td>\n",
       "      <td>a_nacerom@unjbg.edu.pe</td>\n",
       "      <td>Masculino</td>\n",
       "      <td>21</td>\n",
       "      <td>Colegio público</td>\n",
       "      <td>16 - 20</td>\n",
       "      <td>Buena</td>\n",
       "      <td>CEPU</td>\n",
       "      <td>16 - 20</td>\n",
       "      <td>Entre 6 y 10 horas por semana</td>\n",
       "      <td>...</td>\n",
       "      <td>A menudo</td>\n",
       "      <td>Pocas veces</td>\n",
       "      <td>Entre 2 y 3 horas por día</td>\n",
       "      <td>No</td>\n",
       "      <td>NaN</td>\n",
       "      <td>Computadora</td>\n",
       "      <td>A menudo</td>\n",
       "      <td>Notebook-netbook</td>\n",
       "      <td>A menudo</td>\n",
       "      <td>Mejorar mi situación laboral;Seguir mi vocación</td>\n",
       "    </tr>\n",
       "    <tr>\n",
       "      <th>1</th>\n",
       "      <td>2020/12/01 4:37:08 p. m. GMT-5</td>\n",
       "      <td>gninar@unjbg.edu.pe</td>\n",
       "      <td>Prefiero no decirlo</td>\n",
       "      <td>21</td>\n",
       "      <td>Colegio público</td>\n",
       "      <td>16 - 20</td>\n",
       "      <td>Muy buena</td>\n",
       "      <td>Examen EXTRAORDINARIO</td>\n",
       "      <td>16 - 20</td>\n",
       "      <td>Más de 10 horas por semana</td>\n",
       "      <td>...</td>\n",
       "      <td>Nunca</td>\n",
       "      <td>Nunca</td>\n",
       "      <td>No trabaja</td>\n",
       "      <td>No</td>\n",
       "      <td>NaN</td>\n",
       "      <td>Apuntes propios</td>\n",
       "      <td>Pocas veces</td>\n",
       "      <td>PC</td>\n",
       "      <td>Pocas veces</td>\n",
       "      <td>Porque es necesario seguir estudiando;Por reco...</td>\n",
       "    </tr>\n",
       "    <tr>\n",
       "      <th>2</th>\n",
       "      <td>2020/12/01 4:42:57 p. m. GMT-5</td>\n",
       "      <td>yeni@gmail.com</td>\n",
       "      <td>Femenino</td>\n",
       "      <td>22</td>\n",
       "      <td>Colegio público</td>\n",
       "      <td>16 - 20</td>\n",
       "      <td>Regular</td>\n",
       "      <td>EXAMEN FASE II</td>\n",
       "      <td>11- 15</td>\n",
       "      <td>Entre 6 y 10 horas por semana</td>\n",
       "      <td>...</td>\n",
       "      <td>Pocas veces</td>\n",
       "      <td>Nunca</td>\n",
       "      <td>Entre 2 y 3 horas por día</td>\n",
       "      <td>No</td>\n",
       "      <td>NaN</td>\n",
       "      <td>Libros</td>\n",
       "      <td>Pocas veces</td>\n",
       "      <td>PC</td>\n",
       "      <td>A menudo</td>\n",
       "      <td>Porque es necesario seguir estudiando</td>\n",
       "    </tr>\n",
       "    <tr>\n",
       "      <th>3</th>\n",
       "      <td>2020/12/01 5:04:42 p. m. GMT-5</td>\n",
       "      <td>a_mcastrov@unjbg.edu.pe</td>\n",
       "      <td>Femenino</td>\n",
       "      <td>28</td>\n",
       "      <td>Colegio privado</td>\n",
       "      <td>16 - 20</td>\n",
       "      <td>Muy buena</td>\n",
       "      <td>Examen EXTRAORDINARIO</td>\n",
       "      <td>11- 15</td>\n",
       "      <td>Entre 6 y 10 horas por semana</td>\n",
       "      <td>...</td>\n",
       "      <td>A menudo</td>\n",
       "      <td>Nunca</td>\n",
       "      <td>No trabaja</td>\n",
       "      <td>Si</td>\n",
       "      <td>Contabilidad</td>\n",
       "      <td>Computadora;Apuntes propios</td>\n",
       "      <td>Pocas veces</td>\n",
       "      <td>Notebook-netbook</td>\n",
       "      <td>A menudo</td>\n",
       "      <td>Mejorar mi situación económica;Mejorar mi situ...</td>\n",
       "    </tr>\n",
       "    <tr>\n",
       "      <th>4</th>\n",
       "      <td>2020/12/01 5:07:06 p. m. GMT-5</td>\n",
       "      <td>a_ltesillog@unjbg.edu.pe</td>\n",
       "      <td>Femenino</td>\n",
       "      <td>22</td>\n",
       "      <td>Colegio público</td>\n",
       "      <td>16 - 20</td>\n",
       "      <td>Regular</td>\n",
       "      <td>CEPU</td>\n",
       "      <td>11- 15</td>\n",
       "      <td>Entre 6 y 10 horas por semana</td>\n",
       "      <td>...</td>\n",
       "      <td>A menudo</td>\n",
       "      <td>Pocas veces</td>\n",
       "      <td>No trabaja</td>\n",
       "      <td>No</td>\n",
       "      <td>NaN</td>\n",
       "      <td>Computadora;Apuntes propios</td>\n",
       "      <td>A menudo</td>\n",
       "      <td>PC</td>\n",
       "      <td>Pocas veces</td>\n",
       "      <td>Porque es necesario seguir estudiando</td>\n",
       "    </tr>\n",
       "    <tr>\n",
       "      <th>5</th>\n",
       "      <td>2020/12/01 5:21:00 p. m. GMT-5</td>\n",
       "      <td>a_llimap@unjbg.edu.pe</td>\n",
       "      <td>Masculino</td>\n",
       "      <td>23</td>\n",
       "      <td>Colegio concertado</td>\n",
       "      <td>11 - 15</td>\n",
       "      <td>Buena</td>\n",
       "      <td>EXAMEN FASE II</td>\n",
       "      <td>16 - 20</td>\n",
       "      <td>Menos de 3 horas por semana</td>\n",
       "      <td>...</td>\n",
       "      <td>A menudo</td>\n",
       "      <td>Nunca</td>\n",
       "      <td>No trabaja</td>\n",
       "      <td>No</td>\n",
       "      <td>NaN</td>\n",
       "      <td>Computadora</td>\n",
       "      <td>Pocas veces</td>\n",
       "      <td>Netbok Conectar Igualdad;Tablet</td>\n",
       "      <td>Pocas veces</td>\n",
       "      <td>Mejorar mi situación laboral</td>\n",
       "    </tr>\n",
       "    <tr>\n",
       "      <th>6</th>\n",
       "      <td>2020/12/01 5:24:48 p. m. GMT-5</td>\n",
       "      <td>a_jvasquezp@unjbg.edu.pe</td>\n",
       "      <td>Masculino</td>\n",
       "      <td>20</td>\n",
       "      <td>Colegio privado</td>\n",
       "      <td>16 - 20</td>\n",
       "      <td>Muy buena</td>\n",
       "      <td>Examen EXTRAORDINARIO</td>\n",
       "      <td>16 - 20</td>\n",
       "      <td>Entre 3 y 5 horas por semana</td>\n",
       "      <td>...</td>\n",
       "      <td>A menudo</td>\n",
       "      <td>Pocas veces</td>\n",
       "      <td>No trabaja</td>\n",
       "      <td>No</td>\n",
       "      <td>NaN</td>\n",
       "      <td>Computadora</td>\n",
       "      <td>A menudo</td>\n",
       "      <td>PC</td>\n",
       "      <td>A menudo</td>\n",
       "      <td>Mejorar mi situación económica;Mejorar mi situ...</td>\n",
       "    </tr>\n",
       "    <tr>\n",
       "      <th>7</th>\n",
       "      <td>2020/12/01 5:28:36 p. m. GMT-5</td>\n",
       "      <td>jlaquic@unjbg.edu.pe</td>\n",
       "      <td>Masculino</td>\n",
       "      <td>21</td>\n",
       "      <td>Colegio privado</td>\n",
       "      <td>16 - 20</td>\n",
       "      <td>Muy buena</td>\n",
       "      <td>Examen FASE I</td>\n",
       "      <td>16 - 20</td>\n",
       "      <td>Entre 3 y 5 horas por semana</td>\n",
       "      <td>...</td>\n",
       "      <td>A menudo</td>\n",
       "      <td>Pocas veces</td>\n",
       "      <td>Entre 4 y 6 horas por día</td>\n",
       "      <td>No</td>\n",
       "      <td>NaN</td>\n",
       "      <td>Libros;Computadora;Apuntes propios</td>\n",
       "      <td>Pocas veces</td>\n",
       "      <td>Notebook-netbook</td>\n",
       "      <td>A menudo</td>\n",
       "      <td>Mejorar mi situación económica;Mejorar mi situ...</td>\n",
       "    </tr>\n",
       "    <tr>\n",
       "      <th>8</th>\n",
       "      <td>2020/12/01 5:29:36 p. m. GMT-5</td>\n",
       "      <td>a_malanocac@unjbg.edu.pe</td>\n",
       "      <td>Masculino</td>\n",
       "      <td>21</td>\n",
       "      <td>Colegio privado</td>\n",
       "      <td>16 - 20</td>\n",
       "      <td>Buena</td>\n",
       "      <td>Examen FASE I</td>\n",
       "      <td>16 - 20</td>\n",
       "      <td>Menos de 3 horas por semana</td>\n",
       "      <td>...</td>\n",
       "      <td>Siempre</td>\n",
       "      <td>Pocas veces</td>\n",
       "      <td>No trabaja</td>\n",
       "      <td>No</td>\n",
       "      <td>NaN</td>\n",
       "      <td>Computadora;Apuntes propios</td>\n",
       "      <td>Nunca</td>\n",
       "      <td>PC</td>\n",
       "      <td>A menudo</td>\n",
       "      <td>Porque es necesario seguir estudiando</td>\n",
       "    </tr>\n",
       "    <tr>\n",
       "      <th>9</th>\n",
       "      <td>2020/12/01 6:19:00 p. m. GMT-5</td>\n",
       "      <td>a_bhuancot@unjbg.edu.pe</td>\n",
       "      <td>Masculino</td>\n",
       "      <td>21</td>\n",
       "      <td>Colegio privado</td>\n",
       "      <td>11 - 15</td>\n",
       "      <td>Buena</td>\n",
       "      <td>CEPU</td>\n",
       "      <td>11- 15</td>\n",
       "      <td>Menos de 3 horas por semana</td>\n",
       "      <td>...</td>\n",
       "      <td>A menudo</td>\n",
       "      <td>Nunca</td>\n",
       "      <td>No trabaja</td>\n",
       "      <td>No</td>\n",
       "      <td>NaN</td>\n",
       "      <td>Computadora</td>\n",
       "      <td>Nunca</td>\n",
       "      <td>PC</td>\n",
       "      <td>A menudo</td>\n",
       "      <td>Seguir mi vocación</td>\n",
       "    </tr>\n",
       "    <tr>\n",
       "      <th>10</th>\n",
       "      <td>2020/12/02 6:32:33 p. m. GMT-5</td>\n",
       "      <td>lizmc@unjbg.edu.pe</td>\n",
       "      <td>Femenino</td>\n",
       "      <td>27</td>\n",
       "      <td>Colegio público</td>\n",
       "      <td>11 - 15</td>\n",
       "      <td>Buena</td>\n",
       "      <td>EXAMEN FASE II</td>\n",
       "      <td>11- 15</td>\n",
       "      <td>Más de 10 horas por semana</td>\n",
       "      <td>...</td>\n",
       "      <td>A menudo</td>\n",
       "      <td>Nunca</td>\n",
       "      <td>No trabaja</td>\n",
       "      <td>Si</td>\n",
       "      <td>Biología y microbiología, Diseño de modas</td>\n",
       "      <td>Libros;Fotocopias;Computadora;Apuntes propios;...</td>\n",
       "      <td>A menudo</td>\n",
       "      <td>PC</td>\n",
       "      <td>A menudo</td>\n",
       "      <td>Mejorar mi situación económica;Ampliar mi cult...</td>\n",
       "    </tr>\n",
       "    <tr>\n",
       "      <th>11</th>\n",
       "      <td>2020/12/02 10:01:15 p. m. GMT-5</td>\n",
       "      <td>a_jjimenezm@unjbg.edu.pe</td>\n",
       "      <td>Masculino</td>\n",
       "      <td>27</td>\n",
       "      <td>Colegio público</td>\n",
       "      <td>16 - 20</td>\n",
       "      <td>Buena</td>\n",
       "      <td>CEPU</td>\n",
       "      <td>16 - 20</td>\n",
       "      <td>Más de 10 horas por semana</td>\n",
       "      <td>...</td>\n",
       "      <td>Siempre</td>\n",
       "      <td>Nunca</td>\n",
       "      <td>Entre 4 y 6 horas por día</td>\n",
       "      <td>No</td>\n",
       "      <td>NaN</td>\n",
       "      <td>Computadora</td>\n",
       "      <td>Nunca</td>\n",
       "      <td>PC</td>\n",
       "      <td>Pocas veces</td>\n",
       "      <td>Seguir mi vocación</td>\n",
       "    </tr>\n",
       "    <tr>\n",
       "      <th>12</th>\n",
       "      <td>2020/12/02 10:43:49 p. m. GMT-5</td>\n",
       "      <td>sluquer@unjbg.edu.pe</td>\n",
       "      <td>Masculino</td>\n",
       "      <td>25</td>\n",
       "      <td>Colegio público</td>\n",
       "      <td>16 - 20</td>\n",
       "      <td>Buena</td>\n",
       "      <td>EXAMEN FASE II</td>\n",
       "      <td>11- 15</td>\n",
       "      <td>Entre 3 y 5 horas por semana</td>\n",
       "      <td>...</td>\n",
       "      <td>A menudo</td>\n",
       "      <td>Nunca</td>\n",
       "      <td>No trabaja</td>\n",
       "      <td>No</td>\n",
       "      <td>NaN</td>\n",
       "      <td>Libros;Computadora</td>\n",
       "      <td>Pocas veces</td>\n",
       "      <td>PC</td>\n",
       "      <td>A menudo</td>\n",
       "      <td>Porque es necesario seguir estudiando</td>\n",
       "    </tr>\n",
       "  </tbody>\n",
       "</table>\n",
       "<p>13 rows × 21 columns</p>\n",
       "</div>"
      ],
      "text/plain": [
       "                     Marca temporal         Nombre de usuario  \\\n",
       "0    2020/12/01 4:04:37 p. m. GMT-5    a_nacerom@unjbg.edu.pe   \n",
       "1    2020/12/01 4:37:08 p. m. GMT-5       gninar@unjbg.edu.pe   \n",
       "2    2020/12/01 4:42:57 p. m. GMT-5            yeni@gmail.com   \n",
       "3    2020/12/01 5:04:42 p. m. GMT-5   a_mcastrov@unjbg.edu.pe   \n",
       "4    2020/12/01 5:07:06 p. m. GMT-5  a_ltesillog@unjbg.edu.pe   \n",
       "5    2020/12/01 5:21:00 p. m. GMT-5     a_llimap@unjbg.edu.pe   \n",
       "6    2020/12/01 5:24:48 p. m. GMT-5  a_jvasquezp@unjbg.edu.pe   \n",
       "7    2020/12/01 5:28:36 p. m. GMT-5      jlaquic@unjbg.edu.pe   \n",
       "8    2020/12/01 5:29:36 p. m. GMT-5  a_malanocac@unjbg.edu.pe   \n",
       "9    2020/12/01 6:19:00 p. m. GMT-5   a_bhuancot@unjbg.edu.pe   \n",
       "10   2020/12/02 6:32:33 p. m. GMT-5        lizmc@unjbg.edu.pe   \n",
       "11  2020/12/02 10:01:15 p. m. GMT-5  a_jjimenezm@unjbg.edu.pe   \n",
       "12  2020/12/02 10:43:49 p. m. GMT-5      sluquer@unjbg.edu.pe   \n",
       "\n",
       "    ¿Cuál es tu género?  ¿Cuál es edad?  \\\n",
       "0             Masculino              21   \n",
       "1   Prefiero no decirlo              21   \n",
       "2              Femenino              22   \n",
       "3              Femenino              28   \n",
       "4              Femenino              22   \n",
       "5             Masculino              23   \n",
       "6             Masculino              20   \n",
       "7             Masculino              21   \n",
       "8             Masculino              21   \n",
       "9             Masculino              21   \n",
       "10             Femenino              27   \n",
       "11            Masculino              27   \n",
       "12            Masculino              25   \n",
       "\n",
       "   En que tipo de colegio terminó su segundaria?  \\\n",
       "0                                Colegio público   \n",
       "1                                Colegio público   \n",
       "2                                Colegio público   \n",
       "3                                Colegio privado   \n",
       "4                                Colegio público   \n",
       "5                             Colegio concertado   \n",
       "6                                Colegio privado   \n",
       "7                                Colegio privado   \n",
       "8                                Colegio privado   \n",
       "9                                Colegio privado   \n",
       "10                               Colegio público   \n",
       "11                               Colegio público   \n",
       "12                               Colegio público   \n",
       "\n",
       "   Comúnmente cuales fueron sus calificaciones en el colegio?  \\\n",
       "0                                             16 - 20           \n",
       "1                                             16 - 20           \n",
       "2                                             16 - 20           \n",
       "3                                             16 - 20           \n",
       "4                                             16 - 20           \n",
       "5                                             11 - 15           \n",
       "6                                             16 - 20           \n",
       "7                                             16 - 20           \n",
       "8                                             16 - 20           \n",
       "9                                             11 - 15           \n",
       "10                                            11 - 15           \n",
       "11                                            16 - 20           \n",
       "12                                            16 - 20           \n",
       "\n",
       "   ¿Cómo consideras que es la formación que te brindó la escuela secundaria?  \\\n",
       "0                                               Buena                          \n",
       "1                                           Muy buena                          \n",
       "2                                             Regular                          \n",
       "3                                           Muy buena                          \n",
       "4                                             Regular                          \n",
       "5                                               Buena                          \n",
       "6                                           Muy buena                          \n",
       "7                                           Muy buena                          \n",
       "8                                               Buena                          \n",
       "9                                               Buena                          \n",
       "10                                              Buena                          \n",
       "11                                              Buena                          \n",
       "12                                              Buena                          \n",
       "\n",
       "   Modalidad de Ingreso a la Universidad Nacional Jorge Basadre Grohmann?  \\\n",
       "0                                                CEPU                       \n",
       "1                               Examen EXTRAORDINARIO                       \n",
       "2                                      EXAMEN FASE II                       \n",
       "3                               Examen EXTRAORDINARIO                       \n",
       "4                                                CEPU                       \n",
       "5                                      EXAMEN FASE II                       \n",
       "6                               Examen EXTRAORDINARIO                       \n",
       "7                                       Examen FASE I                       \n",
       "8                                       Examen FASE I                       \n",
       "9                                                CEPU                       \n",
       "10                                     EXAMEN FASE II                       \n",
       "11                                               CEPU                       \n",
       "12                                     EXAMEN FASE II                       \n",
       "\n",
       "   Cual fue su nota de ingreso a la Universidad Nacional Jorge Basadre Grohmann?  \\\n",
       "0                                             16 - 20                              \n",
       "1                                             16 - 20                              \n",
       "2                                              11- 15                              \n",
       "3                                              11- 15                              \n",
       "4                                              11- 15                              \n",
       "5                                             16 - 20                              \n",
       "6                                             16 - 20                              \n",
       "7                                             16 - 20                              \n",
       "8                                             16 - 20                              \n",
       "9                                              11- 15                              \n",
       "10                                             11- 15                              \n",
       "11                                            16 - 20                              \n",
       "12                                             11- 15                              \n",
       "\n",
       "   ¿Cuántas horas por semana le dedica a sus tareas universitarias?  ...  \\\n",
       "0                       Entre 6 y 10 horas por semana                ...   \n",
       "1                          Más de 10 horas por semana                ...   \n",
       "2                       Entre 6 y 10 horas por semana                ...   \n",
       "3                       Entre 6 y 10 horas por semana                ...   \n",
       "4                       Entre 6 y 10 horas por semana                ...   \n",
       "5                         Menos de 3 horas por semana                ...   \n",
       "6                        Entre 3 y 5 horas por semana                ...   \n",
       "7                        Entre 3 y 5 horas por semana                ...   \n",
       "8                         Menos de 3 horas por semana                ...   \n",
       "9                         Menos de 3 horas por semana                ...   \n",
       "10                         Más de 10 horas por semana                ...   \n",
       "11                         Más de 10 horas por semana                ...   \n",
       "12                       Entre 3 y 5 horas por semana                ...   \n",
       "\n",
       "   ¿Entiende las explicaciones que se dan en sus clases Universitarias?  \\\n",
       "0                                            A menudo                     \n",
       "1                                               Nunca                     \n",
       "2                                         Pocas veces                     \n",
       "3                                            A menudo                     \n",
       "4                                            A menudo                     \n",
       "5                                            A menudo                     \n",
       "6                                            A menudo                     \n",
       "7                                            A menudo                     \n",
       "8                                             Siempre                     \n",
       "9                                            A menudo                     \n",
       "10                                           A menudo                     \n",
       "11                                            Siempre                     \n",
       "12                                           A menudo                     \n",
       "\n",
       "   ¿Recibe tutorías por parte de su tutor? ¿Cuántas horas trabaja por día?  \\\n",
       "0                              Pocas veces       Entre 2 y 3 horas por día   \n",
       "1                                    Nunca                      No trabaja   \n",
       "2                                    Nunca       Entre 2 y 3 horas por día   \n",
       "3                                    Nunca                      No trabaja   \n",
       "4                              Pocas veces                      No trabaja   \n",
       "5                                    Nunca                      No trabaja   \n",
       "6                              Pocas veces                      No trabaja   \n",
       "7                              Pocas veces       Entre 4 y 6 horas por día   \n",
       "8                              Pocas veces                      No trabaja   \n",
       "9                                    Nunca                      No trabaja   \n",
       "10                                   Nunca                      No trabaja   \n",
       "11                                   Nunca       Entre 4 y 6 horas por día   \n",
       "12                                   Nunca                      No trabaja   \n",
       "\n",
       "   ¿Estudiaste o estúdias otra carrera universitaria?  \\\n",
       "0                                                  No   \n",
       "1                                                  No   \n",
       "2                                                  No   \n",
       "3                                                  Si   \n",
       "4                                                  No   \n",
       "5                                                  No   \n",
       "6                                                  No   \n",
       "7                                                  No   \n",
       "8                                                  No   \n",
       "9                                                  No   \n",
       "10                                                 Si   \n",
       "11                                                 No   \n",
       "12                                                 No   \n",
       "\n",
       "   Si estudiaste o estúdias otra carrera ¿Cuál o cuáles?  \\\n",
       "0                                                 NaN      \n",
       "1                                                 NaN      \n",
       "2                                                 NaN      \n",
       "3                                        Contabilidad      \n",
       "4                                                 NaN      \n",
       "5                                                 NaN      \n",
       "6                                                 NaN      \n",
       "7                                                 NaN      \n",
       "8                                                 NaN      \n",
       "9                                                 NaN      \n",
       "10          Biología y microbiología, Diseño de modas      \n",
       "11                                                NaN      \n",
       "12                                                NaN      \n",
       "\n",
       "   Por lo general cuando estudias lo haces a través de...  \\\n",
       "0                                         Computadora       \n",
       "1                                     Apuntes propios       \n",
       "2                                              Libros       \n",
       "3                         Computadora;Apuntes propios       \n",
       "4                         Computadora;Apuntes propios       \n",
       "5                                         Computadora       \n",
       "6                                         Computadora       \n",
       "7                  Libros;Computadora;Apuntes propios       \n",
       "8                         Computadora;Apuntes propios       \n",
       "9                                         Computadora       \n",
       "10  Libros;Fotocopias;Computadora;Apuntes propios;...       \n",
       "11                                        Computadora       \n",
       "12                                 Libros;Computadora       \n",
       "\n",
       "   Cuando estudias los textos, ¿Se te presentan inconvenientes para comprender, interpretar o retener lo leído?  \\\n",
       "0                                            A menudo                                                             \n",
       "1                                         Pocas veces                                                             \n",
       "2                                         Pocas veces                                                             \n",
       "3                                         Pocas veces                                                             \n",
       "4                                            A menudo                                                             \n",
       "5                                         Pocas veces                                                             \n",
       "6                                            A menudo                                                             \n",
       "7                                         Pocas veces                                                             \n",
       "8                                               Nunca                                                             \n",
       "9                                               Nunca                                                             \n",
       "10                                           A menudo                                                             \n",
       "11                                              Nunca                                                             \n",
       "12                                        Pocas veces                                                             \n",
       "\n",
       "   Respecto a disponibilidad de equipo de computación, ¿Con cuál/cuáles cuentas habitualmente?  \\\n",
       "0                                    Notebook-netbook                                            \n",
       "1                                                  PC                                            \n",
       "2                                                  PC                                            \n",
       "3                                    Notebook-netbook                                            \n",
       "4                                                  PC                                            \n",
       "5                     Netbok Conectar Igualdad;Tablet                                            \n",
       "6                                                  PC                                            \n",
       "7                                    Notebook-netbook                                            \n",
       "8                                                  PC                                            \n",
       "9                                                  PC                                            \n",
       "10                                                 PC                                            \n",
       "11                                                 PC                                            \n",
       "12                                                 PC                                            \n",
       "\n",
       "   Cuentas con buena conexión a Internet?  \\\n",
       "0                                A menudo   \n",
       "1                             Pocas veces   \n",
       "2                                A menudo   \n",
       "3                                A menudo   \n",
       "4                             Pocas veces   \n",
       "5                             Pocas veces   \n",
       "6                                A menudo   \n",
       "7                                A menudo   \n",
       "8                                A menudo   \n",
       "9                                A menudo   \n",
       "10                               A menudo   \n",
       "11                            Pocas veces   \n",
       "12                               A menudo   \n",
       "\n",
       "   ¿Cuáles fueron los motivos principales que te impulsaron a seguir estudios superiores?  \n",
       "0     Mejorar mi situación laboral;Seguir mi vocación                                      \n",
       "1   Porque es necesario seguir estudiando;Por reco...                                      \n",
       "2               Porque es necesario seguir estudiando                                      \n",
       "3   Mejorar mi situación económica;Mejorar mi situ...                                      \n",
       "4               Porque es necesario seguir estudiando                                      \n",
       "5                        Mejorar mi situación laboral                                      \n",
       "6   Mejorar mi situación económica;Mejorar mi situ...                                      \n",
       "7   Mejorar mi situación económica;Mejorar mi situ...                                      \n",
       "8               Porque es necesario seguir estudiando                                      \n",
       "9                                  Seguir mi vocación                                      \n",
       "10  Mejorar mi situación económica;Ampliar mi cult...                                      \n",
       "11                                 Seguir mi vocación                                      \n",
       "12              Porque es necesario seguir estudiando                                      \n",
       "\n",
       "[13 rows x 21 columns]"
      ]
     },
     "execution_count": 213,
     "metadata": {},
     "output_type": "execute_result"
    }
   ],
   "source": [
    "data.head(13)"
   ]
  },
  {
   "cell_type": "markdown",
   "metadata": {},
   "source": [
    "## Funciones PLOT"
   ]
  },
  {
   "cell_type": "code",
   "execution_count": 170,
   "metadata": {},
   "outputs": [],
   "source": [
    "#grafico depastel\n",
    "def grafico_pastel(data):\n",
    "    x = []\n",
    "    for value in data:\n",
    "        x.append(value)\n",
    "    colores = [\"#EE6055\",\"#60D394\",\"#AAF683\",\"#FFD97D\",\"#FF9B85\"]\n",
    "    plt.pie(x, labels=data.keys(), autopct=\"%0.1f %%\", colors=colores)\n",
    "    plt.axis(\"equal\")\n",
    "    plt.show()\n",
    "\n",
    "def grafico_barras(data, title):\n",
    "    x = []\n",
    "    for value in data:\n",
    "        x.append(value)\n",
    "    \n",
    "    fig, ax = plt.subplots()\n",
    "    fig.set_size_inches(10, 5, forward=True)\n",
    "    ax.set_ylabel('Cantidad')\n",
    "    ax.set_title(title)\n",
    "    plt.bar(data.keys(), x)\n",
    "    plt.show()"
   ]
  },
  {
   "cell_type": "markdown",
   "metadata": {},
   "source": [
    "## ¿Cuál es tu género?"
   ]
  },
  {
   "cell_type": "code",
   "execution_count": 177,
   "metadata": {},
   "outputs": [
    {
     "name": "stdout",
     "output_type": "stream",
     "text": [
      "Femenino               4\n",
      "Masculino              8\n",
      "Prefiero no decirlo    1\n",
      "Name: ¿Cuál es tu género?, dtype: int64\n"
     ]
    }
   ],
   "source": [
    "values = data['¿Cuál es tu género?'].value_counts().sort_index()\n",
    "print(values)"
   ]
  },
  {
   "cell_type": "code",
   "execution_count": 178,
   "metadata": {},
   "outputs": [
    {
     "data": {
      "image/png": "[encoded data removed]",
      "text/plain": [
       "<Figure size 432x288 with 1 Axes>"
      ]
     },
     "metadata": {},
     "output_type": "display_data"
    }
   ],
   "source": [
    "grafico_pastel(values)"
   ]
  },
  {
   "cell_type": "markdown",
   "metadata": {},
   "source": [
    "## ¿Cuál es edad?"
   ]
  },
  {
   "cell_type": "code",
   "execution_count": 179,
   "metadata": {},
   "outputs": [
    {
     "data": {
      "text/plain": [
       "count    13.000000\n",
       "mean     23.000000\n",
       "std       2.768875\n",
       "min      20.000000\n",
       "25%      21.000000\n",
       "50%      22.000000\n",
       "75%      25.000000\n",
       "max      28.000000\n",
       "Name: ¿Cuál es edad?, dtype: float64"
      ]
     },
     "execution_count": 179,
     "metadata": {},
     "output_type": "execute_result"
    }
   ],
   "source": [
    "data['¿Cuál es edad?'].describe()"
   ]
  },
  {
   "cell_type": "code",
   "execution_count": 180,
   "metadata": {},
   "outputs": [
    {
     "data": {
      "image/png": "[encoded data removed]",
      "text/plain": [
       "<Figure size 720x360 with 1 Axes>"
      ]
     },
     "metadata": {
      "needs_background": "light"
     },
     "output_type": "display_data"
    }
   ],
   "source": [
    "datos = data['¿Cuál es edad?'].value_counts().sort_index()\n",
    "title = '¿Cuál es tu edad?'\n",
    "grafico_barras(datos, title)"
   ]
  },
  {
   "cell_type": "markdown",
   "metadata": {},
   "source": [
    "## En que tipo de colegio terminó su segundaria?"
   ]
  },
  {
   "cell_type": "code",
   "execution_count": 182,
   "metadata": {},
   "outputs": [
    {
     "name": "stdout",
     "output_type": "stream",
     "text": [
      "Colegio público       7\n",
      "Colegio privado       5\n",
      "Colegio concertado    1\n",
      "Name: En que tipo de colegio terminó su segundaria?, dtype: int64\n"
     ]
    }
   ],
   "source": [
    "values = data['En que tipo de colegio terminó su segundaria?'].value_counts()\n",
    "print(values)"
   ]
  },
  {
   "cell_type": "code",
   "execution_count": 184,
   "metadata": {},
   "outputs": [
    {
     "data": {
      "image/png": "[encoded data removed]",
      "text/plain": [
       "<Figure size 432x288 with 1 Axes>"
      ]
     },
     "metadata": {},
     "output_type": "display_data"
    }
   ],
   "source": [
    "grafico_pastel(values)"
   ]
  },
  {
   "cell_type": "markdown",
   "metadata": {},
   "source": [
    "## Comúnmente cuales fueron sus calificaciones en el colegio?"
   ]
  },
  {
   "cell_type": "code",
   "execution_count": 190,
   "metadata": {},
   "outputs": [
    {
     "name": "stdout",
     "output_type": "stream",
     "text": [
      "11 - 15     3\n",
      "16 - 20    10\n",
      "Name: Comúnmente cuales fueron sus calificaciones en el colegio?, dtype: int64\n"
     ]
    }
   ],
   "source": [
    "values = data['Comúnmente cuales fueron sus calificaciones en el colegio?'].value_counts().sort_index()\n",
    "print(values)"
   ]
  },
  {
   "cell_type": "code",
   "execution_count": 191,
   "metadata": {},
   "outputs": [
    {
     "data": {
      "image/png": "[encoded data removed]",
      "text/plain": [
       "<Figure size 432x288 with 1 Axes>"
      ]
     },
     "metadata": {},
     "output_type": "display_data"
    }
   ],
   "source": [
    "grafico_pastel(values)"
   ]
  },
  {
   "cell_type": "markdown",
   "metadata": {},
   "source": [
    "## ¿Cómo consideras que es la formación que te brindó la escuela secundaria?"
   ]
  },
  {
   "cell_type": "code",
   "execution_count": 192,
   "metadata": {},
   "outputs": [
    {
     "name": "stdout",
     "output_type": "stream",
     "text": [
      "Buena        7\n",
      "Muy buena    4\n",
      "Regular      2\n",
      "Name: ¿Cómo consideras que es la formación que te brindó la escuela secundaria?, dtype: int64\n"
     ]
    }
   ],
   "source": [
    "values = data['¿Cómo consideras que es la formación que te brindó la escuela secundaria?'].value_counts().sort_index()\n",
    "print(values)"
   ]
  },
  {
   "cell_type": "code",
   "execution_count": 193,
   "metadata": {},
   "outputs": [
    {
     "data": {
      "image/png": "[encoded data removed]",
      "text/plain": [
       "<Figure size 432x288 with 1 Axes>"
      ]
     },
     "metadata": {},
     "output_type": "display_data"
    }
   ],
   "source": [
    "grafico_pastel(values)"
   ]
  },
  {
   "cell_type": "markdown",
   "metadata": {},
   "source": [
    "## Modalidad de Ingreso a la Universidad Nacional Jorge Basadre Grohmann?"
   ]
  },
  {
   "cell_type": "code",
   "execution_count": 194,
   "metadata": {},
   "outputs": [
    {
     "name": "stdout",
     "output_type": "stream",
     "text": [
      "CEPU                     4\n",
      "EXAMEN FASE II           4\n",
      "Examen EXTRAORDINARIO    3\n",
      "Examen FASE I            2\n",
      "Name: Modalidad de Ingreso a la Universidad Nacional Jorge Basadre Grohmann?, dtype: int64\n"
     ]
    }
   ],
   "source": [
    "values = data['Modalidad de Ingreso a la Universidad Nacional Jorge Basadre Grohmann?'].value_counts().sort_index()\n",
    "print(values)"
   ]
  },
  {
   "cell_type": "code",
   "execution_count": 196,
   "metadata": {},
   "outputs": [
    {
     "data": {
      "image/png": "[encoded data removed]",
      "text/plain": [
       "<Figure size 720x360 with 1 Axes>"
      ]
     },
     "metadata": {
      "needs_background": "light"
     },
     "output_type": "display_data"
    }
   ],
   "source": [
    "title = 'Modalidad de Ingreso a la Universidad Nacional Jorge Basadre Grohmann?'\n",
    "grafico_barras(values, title)"
   ]
  },
  {
   "cell_type": "markdown",
   "metadata": {},
   "source": [
    "## Cual fue su nota de ingreso a la Universidad Nacional Jorge Basadre Grohmann?"
   ]
  },
  {
   "cell_type": "code",
   "execution_count": 197,
   "metadata": {},
   "outputs": [
    {
     "name": "stdout",
     "output_type": "stream",
     "text": [
      "11- 15     6\n",
      "16 - 20    7\n",
      "Name: Cual fue su nota de ingreso a la Universidad Nacional Jorge Basadre Grohmann?, dtype: int64\n"
     ]
    }
   ],
   "source": [
    "values = data['Cual fue su nota de ingreso a la Universidad Nacional Jorge Basadre Grohmann?'].value_counts().sort_index()\n",
    "print(values)"
   ]
  },
  {
   "cell_type": "code",
   "execution_count": 198,
   "metadata": {},
   "outputs": [
    {
     "data": {
      "image/png": "[encoded data removed]",
      "text/plain": [
       "<Figure size 432x288 with 1 Axes>"
      ]
     },
     "metadata": {},
     "output_type": "display_data"
    }
   ],
   "source": [
    "grafico_pastel(values)"
   ]
  },
  {
   "cell_type": "markdown",
   "metadata": {},
   "source": [
    "## ¿Cuántas horas por semana le dedica a sus tareas universitarias?"
   ]
  },
  {
   "cell_type": "code",
   "execution_count": 199,
   "metadata": {},
   "outputs": [
    {
     "name": "stdout",
     "output_type": "stream",
     "text": [
      "Entre 3 y 5 horas por semana     3\n",
      "Entre 6 y 10 horas por semana    4\n",
      "Menos de 3 horas por semana      3\n",
      "Más de 10 horas por semana       3\n",
      "Name: ¿Cuántas horas por semana le dedica a sus tareas universitarias?, dtype: int64\n"
     ]
    }
   ],
   "source": [
    "values = data['¿Cuántas horas por semana le dedica a sus tareas universitarias?'].value_counts().sort_index()\n",
    "print(values)"
   ]
  },
  {
   "cell_type": "code",
   "execution_count": 202,
   "metadata": {},
   "outputs": [
    {
     "data": {
      "image/png": "[encoded data removed]",
      "text/plain": [
       "<Figure size 432x288 with 1 Axes>"
      ]
     },
     "metadata": {},
     "output_type": "display_data"
    }
   ],
   "source": [
    "grafico_pastel(values)"
   ]
  },
  {
   "cell_type": "markdown",
   "metadata": {},
   "source": [
    "## ¿Entiende las explicaciones que se dan en sus clases Universitarias?"
   ]
  },
  {
   "cell_type": "code",
   "execution_count": 203,
   "metadata": {},
   "outputs": [
    {
     "name": "stdout",
     "output_type": "stream",
     "text": [
      "A menudo       9\n",
      "Nunca          1\n",
      "Pocas veces    1\n",
      "Siempre        2\n",
      "Name: ¿Entiende las explicaciones que se dan en sus clases Universitarias?, dtype: int64\n"
     ]
    }
   ],
   "source": [
    "values = data['¿Entiende las explicaciones que se dan en sus clases Universitarias?'].value_counts().sort_index()\n",
    "print(values)"
   ]
  },
  {
   "cell_type": "code",
   "execution_count": 204,
   "metadata": {},
   "outputs": [
    {
     "data": {
      "image/png": "[encoded data removed]",
      "text/plain": [
       "<Figure size 432x288 with 1 Axes>"
      ]
     },
     "metadata": {},
     "output_type": "display_data"
    }
   ],
   "source": [
    "grafico_pastel(values)"
   ]
  },
  {
   "cell_type": "markdown",
   "metadata": {},
   "source": [
    "## ¿Recibe tutorías por parte de su tutor?"
   ]
  },
  {
   "cell_type": "code",
   "execution_count": 205,
   "metadata": {},
   "outputs": [
    {
     "name": "stdout",
     "output_type": "stream",
     "text": [
      "Nunca          8\n",
      "Pocas veces    5\n",
      "Name: ¿Recibe tutorías por parte de su tutor?, dtype: int64\n"
     ]
    }
   ],
   "source": [
    "values = data['¿Recibe tutorías por parte de su tutor?'].value_counts().sort_index()\n",
    "print(values)"
   ]
  },
  {
   "cell_type": "code",
   "execution_count": 206,
   "metadata": {},
   "outputs": [
    {
     "data": {
      "image/png": "[encoded data removed]",
      "text/plain": [
       "<Figure size 432x288 with 1 Axes>"
      ]
     },
     "metadata": {},
     "output_type": "display_data"
    }
   ],
   "source": [
    "grafico_pastel(values)"
   ]
  },
  {
   "cell_type": "markdown",
   "metadata": {},
   "source": [
    "## ¿Cuántas horas trabaja por día?"
   ]
  },
  {
   "cell_type": "code",
   "execution_count": 207,
   "metadata": {},
   "outputs": [
    {
     "name": "stdout",
     "output_type": "stream",
     "text": [
      "Entre 2 y 3 horas por día    2\n",
      "Entre 4 y 6 horas por día    2\n",
      "No trabaja                   9\n",
      "Name: ¿Cuántas horas trabaja por día?, dtype: int64\n"
     ]
    }
   ],
   "source": [
    "values = data['¿Cuántas horas trabaja por día?'].value_counts().sort_index()\n",
    "print(values)"
   ]
  },
  {
   "cell_type": "code",
   "execution_count": 209,
   "metadata": {},
   "outputs": [
    {
     "data": {
      "image/png": "[encoded data removed]",
      "text/plain": [
       "<Figure size 432x288 with 1 Axes>"
      ]
     },
     "metadata": {},
     "output_type": "display_data"
    }
   ],
   "source": [
    "grafico_pastel(values)"
   ]
  },
  {
   "cell_type": "markdown",
   "metadata": {},
   "source": [
    "## ¿Estudiaste o estúdias otra carrera universitaria?"
   ]
  },
  {
   "cell_type": "code",
   "execution_count": 210,
   "metadata": {},
   "outputs": [
    {
     "name": "stdout",
     "output_type": "stream",
     "text": [
      "No    11\n",
      "Si     2\n",
      "Name: ¿Estudiaste o estúdias otra carrera universitaria?, dtype: int64\n"
     ]
    }
   ],
   "source": [
    "values = data['¿Estudiaste o estúdias otra carrera universitaria?'].value_counts().sort_index()\n",
    "print(values)"
   ]
  },
  {
   "cell_type": "code",
   "execution_count": 211,
   "metadata": {},
   "outputs": [
    {
     "data": {
      "image/png": "[encoded data removed]",
      "text/plain": [
       "<Figure size 432x288 with 1 Axes>"
      ]
     },
     "metadata": {},
     "output_type": "display_data"
    }
   ],
   "source": [
    "grafico_pastel(values)"
   ]
  },
  {
   "cell_type": "markdown",
   "metadata": {},
   "source": [
    "## Si estudiaste o estúdias otra carrera ¿Cuál o cuáles?"
   ]
  },
  {
   "cell_type": "code",
   "execution_count": 212,
   "metadata": {},
   "outputs": [
    {
     "name": "stdout",
     "output_type": "stream",
     "text": [
      "Biología y microbiología, Diseño de modas    1\n",
      "Contabilidad                                 1\n",
      "Name: Si estudiaste o estúdias otra carrera ¿Cuál o cuáles?, dtype: int64\n"
     ]
    }
   ],
   "source": [
    "values = data['Si estudiaste o estúdias otra carrera ¿Cuál o cuáles?'].value_counts().sort_index()\n",
    "print(values)"
   ]
  },
  {
   "cell_type": "code",
   "execution_count": 215,
   "metadata": {},
   "outputs": [
    {
     "data": {
      "image/png": "[encoded data removed]",
      "text/plain": [
       "<Figure size 720x360 with 1 Axes>"
      ]
     },
     "metadata": {
      "needs_background": "light"
     },
     "output_type": "display_data"
    }
   ],
   "source": [
    "title = 'Si estudiaste o estúdias otra carrera ¿Cuál o cuáles?'\n",
    "grafico_barras(values, title)"
   ]
  },
  {
   "cell_type": "markdown",
   "metadata": {},
   "source": [
    "## Por lo general cuando estudias lo haces a través de..."
   ]
  },
  {
   "cell_type": "code",
   "execution_count": 216,
   "metadata": {},
   "outputs": [
    {
     "name": "stdout",
     "output_type": "stream",
     "text": [
      "Apuntes propios                                                    1\n",
      "Computadora                                                        5\n",
      "Computadora;Apuntes propios                                        3\n",
      "Libros                                                             1\n",
      "Libros;Computadora                                                 1\n",
      "Libros;Computadora;Apuntes propios                                 1\n",
      "Libros;Fotocopias;Computadora;Apuntes propios;Apuntes prestados    1\n",
      "Name: Por lo general cuando estudias lo haces a través de..., dtype: int64\n"
     ]
    }
   ],
   "source": [
    "values = data['Por lo general cuando estudias lo haces a través de...'].value_counts().sort_index()\n",
    "print(values)"
   ]
  },
  {
   "cell_type": "code",
   "execution_count": null,
   "metadata": {},
   "outputs": [],
   "source": []
  },
  {
   "cell_type": "code",
   "execution_count": null,
   "metadata": {},
   "outputs": [],
   "source": []
  },
  {
   "cell_type": "code",
   "execution_count": null,
   "metadata": {},
   "outputs": [],
   "source": []
  },
  {
   "cell_type": "code",
   "execution_count": null,
   "metadata": {},
   "outputs": [],
   "source": []
  },
  {
   "cell_type": "code",
   "execution_count": null,
   "metadata": {},
   "outputs": [],
   "source": []
  }
 ],
 "metadata": {
  "kernelspec": {
   "display_name": "Python 3",
   "language": "python",
   "name": "python3"
  },
  "language_info": {
   "codemirror_mode": {
    "name": "ipython",
    "version": 3
   },
   "file_extension": ".py",
   "mimetype": "text/x-python",
   "name": "python",
   "nbconvert_exporter": "python",
   "pygments_lexer": "ipython3",
   "version": "3.8.5"
  }
 },
 "nbformat": 4,
 "nbformat_minor": 4
}
